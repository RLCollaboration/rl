{
 "cells": [
  {
   "cell_type": "code",
   "execution_count": 16,
   "metadata": {
    "collapsed": true
   },
   "outputs": [],
   "source": [
    "import math\n",
    "import tensorflow as tf"
   ]
  },
  {
   "cell_type": "code",
   "execution_count": 28,
   "metadata": {},
   "outputs": [],
   "source": [
    "def create_layer(scope_name, input, layer_size, activation=None, trainable=True):\n",
    "  with tf.variable_scope(scope_name):\n",
    "    input_size = input.get_shape()[1]\n",
    "    w = tf.get_variable(\"weights\", (input_size, layer_size), trainable=trainable, dtype=tf.float32)\n",
    "    b = tf.get_variable(\"bias\", (layer_size,), initializer=tf.zeros_initializer(),\n",
    "                        trainable=trainable, dtype=tf.float32)\n",
    "    output = tf.matmul(input, w) + b\n",
    "    if activation:\n",
    "      output = activation(output)\n",
    "    return output, w, b\n",
    "\n",
    "def create_dnn(name, input, layer_sizes, actions, trainable=True):\n",
    "  with tf.variable_scope(name):\n",
    "    previous = input\n",
    "    variables = []\n",
    "    for i, layer_size in enumerate(layer_sizes):\n",
    "      previous, w, b = create_layer(\"Hidden_{}\".format(i), previous,\n",
    "                                    layer_size, activation=tf.nn.relu,\n",
    "                                    trainable=trainable)\n",
    "      variables += [w, b]\n",
    "    \n",
    "    logits, w, b = create_layer(\"Logits\", previous,\n",
    "                                actions, activation=None,\n",
    "                                trainable=trainable)\n",
    "    variables += [w, b]\n",
    "    action_distribution = tf.nn.softmax(logits)\n",
    "  return action_distribution, variables\n"
   ]
  },
  {
   "cell_type": "code",
   "execution_count": 29,
   "metadata": {},
   "outputs": [],
   "source": [
    "g = tf.Graph()\n",
    "with g.as_default():\n",
    "  input = tf.constant([[1, 2, 3, 4], [5, 6, 7, 8]], dtype=tf.float32)\n",
    "  a, v = create_dnn(\"dqn\", input, [10, 5], 3)  "
   ]
  },
  {
   "cell_type": "code",
   "execution_count": 30,
   "metadata": {
    "collapsed": true
   },
   "outputs": [],
   "source": [
    "tf.summary.FileWriter(\"logs\", g).close()"
   ]
  }
 ],
 "metadata": {
  "kernelspec": {
   "display_name": "Python 2",
   "language": "python",
   "name": "python2"
  },
  "language_info": {
   "codemirror_mode": {
    "name": "ipython",
    "version": 2
   },
   "file_extension": ".py",
   "mimetype": "text/x-python",
   "name": "python",
   "nbconvert_exporter": "python",
   "pygments_lexer": "ipython2",
   "version": "2.7.13"
  }
 },
 "nbformat": 4,
 "nbformat_minor": 2
}
